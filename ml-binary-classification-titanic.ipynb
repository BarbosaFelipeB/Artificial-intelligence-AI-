{
 "cells": [
  {
   "cell_type": "code",
   "execution_count": 1,
   "id": "57c2d770",
   "metadata": {
    "_cell_guid": "b1076dfc-b9ad-4769-8c92-a6c4dae69d19",
    "_uuid": "8f2839f25d086af736a60e9eeb907d3b93b6e0e5",
    "execution": {
     "iopub.execute_input": "2022-02-24T11:36:12.708364Z",
     "iopub.status.busy": "2022-02-24T11:36:12.707242Z",
     "iopub.status.idle": "2022-02-24T11:36:12.717475Z",
     "shell.execute_reply": "2022-02-24T11:36:12.718160Z",
     "shell.execute_reply.started": "2022-02-24T10:52:56.594057Z"
    },
    "papermill": {
     "duration": 0.047524,
     "end_time": "2022-02-24T11:36:12.718529",
     "exception": false,
     "start_time": "2022-02-24T11:36:12.671005",
     "status": "completed"
    },
    "tags": []
   },
   "outputs": [
    {
     "name": "stdout",
     "output_type": "stream",
     "text": [
      "/kaggle/input/titanic/train.csv\n",
      "/kaggle/input/titanic/test.csv\n",
      "/kaggle/input/titanic/gender_submission.csv\n"
     ]
    }
   ],
   "source": [
    "# This Python 3 environment comes with many helpful analytics libraries installed\n",
    "# It is defined by the kaggle/python Docker image: https://github.com/kaggle/docker-python\n",
    "# For example, here's several helpful packages to load\n",
    "\n",
    "import numpy as np # linear algebra\n",
    "import pandas as pd # data processing, CSV file I/O (e.g. pd.read_csv)\n",
    "\n",
    "# Input data files are available in the read-only \"../input/\" directory\n",
    "# For example, running this (by clicking run or pressing Shift+Enter) will list all files under the input directory\n",
    "\n",
    "import os\n",
    "for dirname, _, filenames in os.walk('/kaggle/input'):\n",
    "    for filename in filenames:\n",
    "        print(os.path.join(dirname, filename))\n",
    "\n",
    "# You can write up to 20GB to the current directory (/kaggle/working/) that gets preserved as output when you create a version using \"Save & Run All\" \n",
    "# You can also write temporary files to /kaggle/temp/, but they won't be saved outside of the current session"
   ]
  },
  {
   "cell_type": "markdown",
   "id": "7ede52a9",
   "metadata": {
    "papermill": {
     "duration": 0.024475,
     "end_time": "2022-02-24T11:36:12.769387",
     "exception": false,
     "start_time": "2022-02-24T11:36:12.744912",
     "status": "completed"
    },
    "tags": []
   },
   "source": [
    "References:\n",
    "<https://www.kaggle.com/osemds/first-titanic-and-also-kaggle-attempt>; https://www.kaggle.com/startupsci/titanic-data-science-solutions."
   ]
  },
  {
   "cell_type": "markdown",
   "id": "eeaf561f",
   "metadata": {
    "papermill": {
     "duration": 0.024582,
     "end_time": "2022-02-24T11:36:12.818428",
     "exception": false,
     "start_time": "2022-02-24T11:36:12.793846",
     "status": "completed"
    },
    "tags": []
   },
   "source": [
    "Imports\n",
    "\n",
    "First import the resources (will be adding more while would need it)"
   ]
  },
  {
   "cell_type": "code",
   "execution_count": 2,
   "id": "2ee1cdf2",
   "metadata": {
    "execution": {
     "iopub.execute_input": "2022-02-24T11:36:12.874573Z",
     "iopub.status.busy": "2022-02-24T11:36:12.873904Z",
     "iopub.status.idle": "2022-02-24T11:36:14.186819Z",
     "shell.execute_reply": "2022-02-24T11:36:14.186283Z",
     "shell.execute_reply.started": "2022-02-24T11:05:17.986081Z"
    },
    "papermill": {
     "duration": 1.343778,
     "end_time": "2022-02-24T11:36:14.186962",
     "exception": false,
     "start_time": "2022-02-24T11:36:12.843184",
     "status": "completed"
    },
    "tags": []
   },
   "outputs": [],
   "source": [
    "# imports \n",
    "import seaborn as sns\n",
    "from sklearn.metrics import accuracy_score\n",
    "from sklearn import preprocessing\n",
    "import matplotlib.pyplot as plt\n",
    "from sklearn.preprocessing import StandardScaler\n",
    "from sklearn.model_selection import train_test_split\n",
    "from sklearn.model_selection import cross_val_score\n",
    "from sklearn.preprocessing import PolynomialFeatures\n",
    "\n",
    "from sklearn.ensemble import RandomForestClassifier\n",
    "from sklearn.ensemble import GradientBoostingClassifier\n",
    "from sklearn.linear_model import LogisticRegression\n",
    "from sklearn.linear_model import SGDClassifier\n",
    "from sklearn.svm import SVC\n",
    "from sklearn.neighbors import KNeighborsClassifier\n",
    "from sklearn.tree import DecisionTreeClassifier"
   ]
  },
  {
   "cell_type": "markdown",
   "id": "478daf16",
   "metadata": {
    "papermill": {
     "duration": 0.024849,
     "end_time": "2022-02-24T11:36:14.237246",
     "exception": false,
     "start_time": "2022-02-24T11:36:14.212397",
     "status": "completed"
    },
    "tags": []
   },
   "source": [
    "Charge the data in order to overview the situation"
   ]
  },
  {
   "cell_type": "code",
   "execution_count": 3,
   "id": "96a091ba",
   "metadata": {
    "execution": {
     "iopub.execute_input": "2022-02-24T11:36:14.308484Z",
     "iopub.status.busy": "2022-02-24T11:36:14.305215Z",
     "iopub.status.idle": "2022-02-24T11:36:14.349004Z",
     "shell.execute_reply": "2022-02-24T11:36:14.349583Z",
     "shell.execute_reply.started": "2022-02-24T10:54:05.058467Z"
    },
    "papermill": {
     "duration": 0.087853,
     "end_time": "2022-02-24T11:36:14.349805",
     "exception": false,
     "start_time": "2022-02-24T11:36:14.261952",
     "status": "completed"
    },
    "tags": []
   },
   "outputs": [],
   "source": [
    "train_path = \"/kaggle/input/titanic/train.csv\"\n",
    "test_path  = \"/kaggle/input/titanic/test.csv\"\n",
    "submission_path = \"/kaggle/input/titanic/gender_submission.csv\"\n",
    "\n",
    "train = pd.read_csv(train_path)\n",
    "test = pd.read_csv(test_path)\n",
    "submission = pd.read_csv(submission_path)"
   ]
  },
  {
   "cell_type": "code",
   "execution_count": 4,
   "id": "00437182",
   "metadata": {
    "execution": {
     "iopub.execute_input": "2022-02-24T11:36:14.420847Z",
     "iopub.status.busy": "2022-02-24T11:36:14.416732Z",
     "iopub.status.idle": "2022-02-24T11:36:14.436965Z",
     "shell.execute_reply": "2022-02-24T11:36:14.437480Z",
     "shell.execute_reply.started": "2022-02-24T10:54:13.748015Z"
    },
    "papermill": {
     "duration": 0.051456,
     "end_time": "2022-02-24T11:36:14.437649",
     "exception": false,
     "start_time": "2022-02-24T11:36:14.386193",
     "status": "completed"
    },
    "tags": []
   },
   "outputs": [
    {
     "name": "stdout",
     "output_type": "stream",
     "text": [
      "Training Data\n"
     ]
    },
    {
     "data": {
      "text/html": [
       "<div>\n",
       "<style scoped>\n",
       "    .dataframe tbody tr th:only-of-type {\n",
       "        vertical-align: middle;\n",
       "    }\n",
       "\n",
       "    .dataframe tbody tr th {\n",
       "        vertical-align: top;\n",
       "    }\n",
       "\n",
       "    .dataframe thead th {\n",
       "        text-align: right;\n",
       "    }\n",
       "</style>\n",
       "<table border=\"1\" class=\"dataframe\">\n",
       "  <thead>\n",
       "    <tr style=\"text-align: right;\">\n",
       "      <th></th>\n",
       "      <th>PassengerId</th>\n",
       "      <th>Survived</th>\n",
       "      <th>Pclass</th>\n",
       "      <th>Name</th>\n",
       "      <th>Sex</th>\n",
       "      <th>Age</th>\n",
       "      <th>SibSp</th>\n",
       "      <th>Parch</th>\n",
       "      <th>Ticket</th>\n",
       "      <th>Fare</th>\n",
       "      <th>Cabin</th>\n",
       "      <th>Embarked</th>\n",
       "    </tr>\n",
       "  </thead>\n",
       "  <tbody>\n",
       "    <tr>\n",
       "      <th>0</th>\n",
       "      <td>1</td>\n",
       "      <td>0</td>\n",
       "      <td>3</td>\n",
       "      <td>Braund, Mr. Owen Harris</td>\n",
       "      <td>male</td>\n",
       "      <td>22.0</td>\n",
       "      <td>1</td>\n",
       "      <td>0</td>\n",
       "      <td>A/5 21171</td>\n",
       "      <td>7.2500</td>\n",
       "      <td>NaN</td>\n",
       "      <td>S</td>\n",
       "    </tr>\n",
       "    <tr>\n",
       "      <th>1</th>\n",
       "      <td>2</td>\n",
       "      <td>1</td>\n",
       "      <td>1</td>\n",
       "      <td>Cumings, Mrs. John Bradley (Florence Briggs Th...</td>\n",
       "      <td>female</td>\n",
       "      <td>38.0</td>\n",
       "      <td>1</td>\n",
       "      <td>0</td>\n",
       "      <td>PC 17599</td>\n",
       "      <td>71.2833</td>\n",
       "      <td>C85</td>\n",
       "      <td>C</td>\n",
       "    </tr>\n",
       "    <tr>\n",
       "      <th>2</th>\n",
       "      <td>3</td>\n",
       "      <td>1</td>\n",
       "      <td>3</td>\n",
       "      <td>Heikkinen, Miss. Laina</td>\n",
       "      <td>female</td>\n",
       "      <td>26.0</td>\n",
       "      <td>0</td>\n",
       "      <td>0</td>\n",
       "      <td>STON/O2. 3101282</td>\n",
       "      <td>7.9250</td>\n",
       "      <td>NaN</td>\n",
       "      <td>S</td>\n",
       "    </tr>\n",
       "    <tr>\n",
       "      <th>3</th>\n",
       "      <td>4</td>\n",
       "      <td>1</td>\n",
       "      <td>1</td>\n",
       "      <td>Futrelle, Mrs. Jacques Heath (Lily May Peel)</td>\n",
       "      <td>female</td>\n",
       "      <td>35.0</td>\n",
       "      <td>1</td>\n",
       "      <td>0</td>\n",
       "      <td>113803</td>\n",
       "      <td>53.1000</td>\n",
       "      <td>C123</td>\n",
       "      <td>S</td>\n",
       "    </tr>\n",
       "    <tr>\n",
       "      <th>4</th>\n",
       "      <td>5</td>\n",
       "      <td>0</td>\n",
       "      <td>3</td>\n",
       "      <td>Allen, Mr. William Henry</td>\n",
       "      <td>male</td>\n",
       "      <td>35.0</td>\n",
       "      <td>0</td>\n",
       "      <td>0</td>\n",
       "      <td>373450</td>\n",
       "      <td>8.0500</td>\n",
       "      <td>NaN</td>\n",
       "      <td>S</td>\n",
       "    </tr>\n",
       "  </tbody>\n",
       "</table>\n",
       "</div>"
      ],
      "text/plain": [
       "   PassengerId  Survived  Pclass  \\\n",
       "0            1         0       3   \n",
       "1            2         1       1   \n",
       "2            3         1       3   \n",
       "3            4         1       1   \n",
       "4            5         0       3   \n",
       "\n",
       "                                                Name     Sex   Age  SibSp  \\\n",
       "0                            Braund, Mr. Owen Harris    male  22.0      1   \n",
       "1  Cumings, Mrs. John Bradley (Florence Briggs Th...  female  38.0      1   \n",
       "2                             Heikkinen, Miss. Laina  female  26.0      0   \n",
       "3       Futrelle, Mrs. Jacques Heath (Lily May Peel)  female  35.0      1   \n",
       "4                           Allen, Mr. William Henry    male  35.0      0   \n",
       "\n",
       "   Parch            Ticket     Fare Cabin Embarked  \n",
       "0      0         A/5 21171   7.2500   NaN        S  \n",
       "1      0          PC 17599  71.2833   C85        C  \n",
       "2      0  STON/O2. 3101282   7.9250   NaN        S  \n",
       "3      0            113803  53.1000  C123        S  \n",
       "4      0            373450   8.0500   NaN        S  "
      ]
     },
     "execution_count": 4,
     "metadata": {},
     "output_type": "execute_result"
    }
   ],
   "source": [
    "print('Training Data')\n",
    "train.head()"
   ]
  },
  {
   "cell_type": "code",
   "execution_count": 5,
   "id": "800a21ae",
   "metadata": {
    "execution": {
     "iopub.execute_input": "2022-02-24T11:36:14.491413Z",
     "iopub.status.busy": "2022-02-24T11:36:14.490851Z",
     "iopub.status.idle": "2022-02-24T11:36:14.522131Z",
     "shell.execute_reply": "2022-02-24T11:36:14.522690Z",
     "shell.execute_reply.started": "2022-02-24T10:54:26.625957Z"
    },
    "papermill": {
     "duration": 0.059693,
     "end_time": "2022-02-24T11:36:14.522856",
     "exception": false,
     "start_time": "2022-02-24T11:36:14.463163",
     "status": "completed"
    },
    "tags": []
   },
   "outputs": [
    {
     "name": "stdout",
     "output_type": "stream",
     "text": [
      "1. General information about training:\n",
      "<class 'pandas.core.frame.DataFrame'>\n",
      "RangeIndex: 891 entries, 0 to 890\n",
      "Data columns (total 12 columns):\n",
      " #   Column       Non-Null Count  Dtype  \n",
      "---  ------       --------------  -----  \n",
      " 0   PassengerId  891 non-null    int64  \n",
      " 1   Survived     891 non-null    int64  \n",
      " 2   Pclass       891 non-null    int64  \n",
      " 3   Name         891 non-null    object \n",
      " 4   Sex          891 non-null    object \n",
      " 5   Age          714 non-null    float64\n",
      " 6   SibSp        891 non-null    int64  \n",
      " 7   Parch        891 non-null    int64  \n",
      " 8   Ticket       891 non-null    object \n",
      " 9   Fare         891 non-null    float64\n",
      " 10  Cabin        204 non-null    object \n",
      " 11  Embarked     889 non-null    object \n",
      "dtypes: float64(2), int64(5), object(5)\n",
      "memory usage: 83.7+ KB\n",
      "----------------------------------------------------------\n",
      "2. Percentage of NA per property sorted:\n",
      "Cabin          77.104377\n",
      "Age            19.865320\n",
      "Embarked        0.224467\n",
      "PassengerId     0.000000\n",
      "Survived        0.000000\n",
      "Pclass          0.000000\n",
      "Name            0.000000\n",
      "Sex             0.000000\n",
      "SibSp           0.000000\n",
      "Parch           0.000000\n",
      "Ticket          0.000000\n",
      "Fare            0.000000\n",
      "dtype: float64\n",
      "----------------------------------------------------------\n",
      "3. Unique values for duplications and other useful info:\n",
      "Survived         2\n",
      "Sex              2\n",
      "Pclass           3\n",
      "Embarked         3\n",
      "SibSp            7\n",
      "Parch            7\n",
      "Age             88\n",
      "Cabin          147\n",
      "Fare           248\n",
      "Ticket         681\n",
      "PassengerId    891\n",
      "Name           891\n",
      "dtype: int64\n"
     ]
    }
   ],
   "source": [
    "#Some info about the training data\n",
    "\n",
    "print('1. General information about training:')\n",
    "train.info()\n",
    "print('----------------------------------------------------------')\n",
    "print('2. Percentage of NA per property sorted:')\n",
    "p = (train.isna().sum()/len(train)*100).sort_values(ascending=False)\n",
    "print(p)\n",
    "print('----------------------------------------------------------')\n",
    "print('3. Unique values for duplications and other useful info:')\n",
    "u = train.nunique().sort_values()\n",
    "print(u)"
   ]
  },
  {
   "cell_type": "code",
   "execution_count": 6,
   "id": "c2b45f11",
   "metadata": {
    "execution": {
     "iopub.execute_input": "2022-02-24T11:36:14.577681Z",
     "iopub.status.busy": "2022-02-24T11:36:14.577127Z",
     "iopub.status.idle": "2022-02-24T11:36:14.591240Z",
     "shell.execute_reply": "2022-02-24T11:36:14.590719Z",
     "shell.execute_reply.started": "2022-02-24T10:54:38.179038Z"
    },
    "papermill": {
     "duration": 0.042214,
     "end_time": "2022-02-24T11:36:14.591375",
     "exception": false,
     "start_time": "2022-02-24T11:36:14.549161",
     "status": "completed"
    },
    "tags": []
   },
   "outputs": [
    {
     "name": "stdout",
     "output_type": "stream",
     "text": [
      "Test Data\n"
     ]
    },
    {
     "data": {
      "text/html": [
       "<div>\n",
       "<style scoped>\n",
       "    .dataframe tbody tr th:only-of-type {\n",
       "        vertical-align: middle;\n",
       "    }\n",
       "\n",
       "    .dataframe tbody tr th {\n",
       "        vertical-align: top;\n",
       "    }\n",
       "\n",
       "    .dataframe thead th {\n",
       "        text-align: right;\n",
       "    }\n",
       "</style>\n",
       "<table border=\"1\" class=\"dataframe\">\n",
       "  <thead>\n",
       "    <tr style=\"text-align: right;\">\n",
       "      <th></th>\n",
       "      <th>PassengerId</th>\n",
       "      <th>Pclass</th>\n",
       "      <th>Name</th>\n",
       "      <th>Sex</th>\n",
       "      <th>Age</th>\n",
       "      <th>SibSp</th>\n",
       "      <th>Parch</th>\n",
       "      <th>Ticket</th>\n",
       "      <th>Fare</th>\n",
       "      <th>Cabin</th>\n",
       "      <th>Embarked</th>\n",
       "    </tr>\n",
       "  </thead>\n",
       "  <tbody>\n",
       "    <tr>\n",
       "      <th>0</th>\n",
       "      <td>892</td>\n",
       "      <td>3</td>\n",
       "      <td>Kelly, Mr. James</td>\n",
       "      <td>male</td>\n",
       "      <td>34.5</td>\n",
       "      <td>0</td>\n",
       "      <td>0</td>\n",
       "      <td>330911</td>\n",
       "      <td>7.8292</td>\n",
       "      <td>NaN</td>\n",
       "      <td>Q</td>\n",
       "    </tr>\n",
       "    <tr>\n",
       "      <th>1</th>\n",
       "      <td>893</td>\n",
       "      <td>3</td>\n",
       "      <td>Wilkes, Mrs. James (Ellen Needs)</td>\n",
       "      <td>female</td>\n",
       "      <td>47.0</td>\n",
       "      <td>1</td>\n",
       "      <td>0</td>\n",
       "      <td>363272</td>\n",
       "      <td>7.0000</td>\n",
       "      <td>NaN</td>\n",
       "      <td>S</td>\n",
       "    </tr>\n",
       "    <tr>\n",
       "      <th>2</th>\n",
       "      <td>894</td>\n",
       "      <td>2</td>\n",
       "      <td>Myles, Mr. Thomas Francis</td>\n",
       "      <td>male</td>\n",
       "      <td>62.0</td>\n",
       "      <td>0</td>\n",
       "      <td>0</td>\n",
       "      <td>240276</td>\n",
       "      <td>9.6875</td>\n",
       "      <td>NaN</td>\n",
       "      <td>Q</td>\n",
       "    </tr>\n",
       "    <tr>\n",
       "      <th>3</th>\n",
       "      <td>895</td>\n",
       "      <td>3</td>\n",
       "      <td>Wirz, Mr. Albert</td>\n",
       "      <td>male</td>\n",
       "      <td>27.0</td>\n",
       "      <td>0</td>\n",
       "      <td>0</td>\n",
       "      <td>315154</td>\n",
       "      <td>8.6625</td>\n",
       "      <td>NaN</td>\n",
       "      <td>S</td>\n",
       "    </tr>\n",
       "    <tr>\n",
       "      <th>4</th>\n",
       "      <td>896</td>\n",
       "      <td>3</td>\n",
       "      <td>Hirvonen, Mrs. Alexander (Helga E Lindqvist)</td>\n",
       "      <td>female</td>\n",
       "      <td>22.0</td>\n",
       "      <td>1</td>\n",
       "      <td>1</td>\n",
       "      <td>3101298</td>\n",
       "      <td>12.2875</td>\n",
       "      <td>NaN</td>\n",
       "      <td>S</td>\n",
       "    </tr>\n",
       "  </tbody>\n",
       "</table>\n",
       "</div>"
      ],
      "text/plain": [
       "   PassengerId  Pclass                                          Name     Sex  \\\n",
       "0          892       3                              Kelly, Mr. James    male   \n",
       "1          893       3              Wilkes, Mrs. James (Ellen Needs)  female   \n",
       "2          894       2                     Myles, Mr. Thomas Francis    male   \n",
       "3          895       3                              Wirz, Mr. Albert    male   \n",
       "4          896       3  Hirvonen, Mrs. Alexander (Helga E Lindqvist)  female   \n",
       "\n",
       "    Age  SibSp  Parch   Ticket     Fare Cabin Embarked  \n",
       "0  34.5      0      0   330911   7.8292   NaN        Q  \n",
       "1  47.0      1      0   363272   7.0000   NaN        S  \n",
       "2  62.0      0      0   240276   9.6875   NaN        Q  \n",
       "3  27.0      0      0   315154   8.6625   NaN        S  \n",
       "4  22.0      1      1  3101298  12.2875   NaN        S  "
      ]
     },
     "execution_count": 6,
     "metadata": {},
     "output_type": "execute_result"
    }
   ],
   "source": [
    "print('Test Data')\n",
    "test.head()"
   ]
  },
  {
   "cell_type": "code",
   "execution_count": 7,
   "id": "a6b356b9",
   "metadata": {
    "execution": {
     "iopub.execute_input": "2022-02-24T11:36:14.658503Z",
     "iopub.status.busy": "2022-02-24T11:36:14.657677Z",
     "iopub.status.idle": "2022-02-24T11:36:14.664493Z",
     "shell.execute_reply": "2022-02-24T11:36:14.663776Z",
     "shell.execute_reply.started": "2022-02-24T10:54:54.099648Z"
    },
    "papermill": {
     "duration": 0.046619,
     "end_time": "2022-02-24T11:36:14.664671",
     "exception": false,
     "start_time": "2022-02-24T11:36:14.618052",
     "status": "completed"
    },
    "tags": []
   },
   "outputs": [
    {
     "name": "stdout",
     "output_type": "stream",
     "text": [
      "1. General information about test:\n",
      "<class 'pandas.core.frame.DataFrame'>\n",
      "RangeIndex: 418 entries, 0 to 417\n",
      "Data columns (total 11 columns):\n",
      " #   Column       Non-Null Count  Dtype  \n",
      "---  ------       --------------  -----  \n",
      " 0   PassengerId  418 non-null    int64  \n",
      " 1   Pclass       418 non-null    int64  \n",
      " 2   Name         418 non-null    object \n",
      " 3   Sex          418 non-null    object \n",
      " 4   Age          332 non-null    float64\n",
      " 5   SibSp        418 non-null    int64  \n",
      " 6   Parch        418 non-null    int64  \n",
      " 7   Ticket       418 non-null    object \n",
      " 8   Fare         417 non-null    float64\n",
      " 9   Cabin        91 non-null     object \n",
      " 10  Embarked     418 non-null    object \n",
      "dtypes: float64(2), int64(4), object(5)\n",
      "memory usage: 36.0+ KB\n",
      "----------------------------------------------------------\n",
      "2. Percentage of NA per property sorted:\n",
      "Cabin          78.229665\n",
      "Age            20.574163\n",
      "Fare            0.239234\n",
      "PassengerId     0.000000\n",
      "Pclass          0.000000\n",
      "Name            0.000000\n",
      "Sex             0.000000\n",
      "SibSp           0.000000\n",
      "Parch           0.000000\n",
      "Ticket          0.000000\n",
      "Embarked        0.000000\n",
      "dtype: float64\n"
     ]
    }
   ],
   "source": [
    "#Some info about the test data\n",
    "\n",
    "print('1. General information about test:')\n",
    "test.info()\n",
    "print('----------------------------------------------------------')\n",
    "print('2. Percentage of NA per property sorted:')\n",
    "p = (test.isna().sum()/len(test)*100).sort_values(ascending=False)\n",
    "print(p)"
   ]
  },
  {
   "cell_type": "code",
   "execution_count": 8,
   "id": "9682cfa2",
   "metadata": {
    "execution": {
     "iopub.execute_input": "2022-02-24T11:36:14.726845Z",
     "iopub.status.busy": "2022-02-24T11:36:14.726258Z",
     "iopub.status.idle": "2022-02-24T11:36:14.728863Z",
     "shell.execute_reply": "2022-02-24T11:36:14.729280Z",
     "shell.execute_reply.started": "2022-02-24T10:55:05.424905Z"
    },
    "papermill": {
     "duration": 0.036296,
     "end_time": "2022-02-24T11:36:14.729457",
     "exception": false,
     "start_time": "2022-02-24T11:36:14.693161",
     "status": "completed"
    },
    "tags": []
   },
   "outputs": [
    {
     "name": "stdout",
     "output_type": "stream",
     "text": [
      "     PassengerId  Survived\n",
      "0            892         0\n",
      "1            893         1\n",
      "2            894         0\n",
      "3            895         0\n",
      "4            896         1\n",
      "..           ...       ...\n",
      "413         1305         0\n",
      "414         1306         1\n",
      "415         1307         0\n",
      "416         1308         0\n",
      "417         1309         0\n",
      "\n",
      "[418 rows x 2 columns]\n"
     ]
    }
   ],
   "source": [
    "print(submission)"
   ]
  },
  {
   "cell_type": "markdown",
   "id": "712aa7b3",
   "metadata": {
    "papermill": {
     "duration": 0.027391,
     "end_time": "2022-02-24T11:36:14.784212",
     "exception": false,
     "start_time": "2022-02-24T11:36:14.756821",
     "status": "completed"
    },
    "tags": []
   },
   "source": [
    "Now lets see some plots that will help to figure out some relations in the data"
   ]
  },
  {
   "cell_type": "code",
   "execution_count": 9,
   "id": "0245ebc6",
   "metadata": {
    "execution": {
     "iopub.execute_input": "2022-02-24T11:36:14.844950Z",
     "iopub.status.busy": "2022-02-24T11:36:14.844369Z",
     "iopub.status.idle": "2022-02-24T11:36:15.293323Z",
     "shell.execute_reply": "2022-02-24T11:36:15.293858Z",
     "shell.execute_reply.started": "2022-02-24T10:55:20.491637Z"
    },
    "papermill": {
     "duration": 0.48106,
     "end_time": "2022-02-24T11:36:15.294013",
     "exception": false,
     "start_time": "2022-02-24T11:36:14.812953",
     "status": "completed"
    },
    "tags": []
   },
   "outputs": [
    {
     "data": {
      "image/png": "[encoded data removed]",
      "text/plain": [
       "<Figure size 864x864 with 2 Axes>"
      ]
     },
     "metadata": {
      "needs_background": "light"
     },
     "output_type": "display_data"
    }
   ],
   "source": [
    "# Heatmap \n",
    "plt.figure(figsize=(12,12))\n",
    "sns.heatmap(train.corr(), annot=True, cmap='Blues')\n",
    "plt.show()"
   ]
  },
  {
   "cell_type": "code",
   "execution_count": 10,
   "id": "22812738",
   "metadata": {
    "execution": {
     "iopub.execute_input": "2022-02-24T11:36:15.355244Z",
     "iopub.status.busy": "2022-02-24T11:36:15.354675Z",
     "iopub.status.idle": "2022-02-24T11:36:15.536632Z",
     "shell.execute_reply": "2022-02-24T11:36:15.537076Z",
     "shell.execute_reply.started": "2022-02-24T10:55:30.828172Z"
    },
    "papermill": {
     "duration": 0.214049,
     "end_time": "2022-02-24T11:36:15.537238",
     "exception": false,
     "start_time": "2022-02-24T11:36:15.323189",
     "status": "completed"
    },
    "tags": []
   },
   "outputs": [
    {
     "data": {
      "image/png": "[encoded data removed]",
      "text/plain": [
       "<Figure size 432x288 with 1 Axes>"
      ]
     },
     "metadata": {
      "needs_background": "light"
     },
     "output_type": "display_data"
    }
   ],
   "source": [
    "sns.heatmap(train.isnull(), yticklabels=False, cbar=False)\n",
    "plt.title('Missing values distribution')\n",
    "plt.show()"
   ]
  },
  {
   "cell_type": "code",
   "execution_count": 11,
   "id": "31cc2cb0",
   "metadata": {
    "execution": {
     "iopub.execute_input": "2022-02-24T11:36:15.600035Z",
     "iopub.status.busy": "2022-02-24T11:36:15.599155Z",
     "iopub.status.idle": "2022-02-24T11:36:15.786503Z",
     "shell.execute_reply": "2022-02-24T11:36:15.786935Z",
     "shell.execute_reply.started": "2022-02-24T10:55:40.989037Z"
    },
    "papermill": {
     "duration": 0.220379,
     "end_time": "2022-02-24T11:36:15.787105",
     "exception": false,
     "start_time": "2022-02-24T11:36:15.566726",
     "status": "completed"
    },
    "tags": []
   },
   "outputs": [
    {
     "data": {
      "image/png": "[encoded data removed]",
      "text/plain": [
       "<Figure size 432x288 with 1 Axes>"
      ]
     },
     "metadata": {
      "needs_background": "light"
     },
     "output_type": "display_data"
    }
   ],
   "source": [
    "# Graphic\n",
    "Pclass=['class1','class2','class3']\n",
    "ax=sns.countplot(data=train,x='Pclass',hue='Survived')\n",
    "plt.xticks(ticks = [0,1,2], labels = Pclass)\n",
    "plt.title(\"Pclass / Target\")\n",
    "plt.legend(['Deceased', 'Survived'])\n",
    "plt.show()"
   ]
  },
  {
   "cell_type": "code",
   "execution_count": 12,
   "id": "3c8adca9",
   "metadata": {
    "execution": {
     "iopub.execute_input": "2022-02-24T11:36:15.851521Z",
     "iopub.status.busy": "2022-02-24T11:36:15.850624Z",
     "iopub.status.idle": "2022-02-24T11:36:16.020441Z",
     "shell.execute_reply": "2022-02-24T11:36:16.020884Z",
     "shell.execute_reply.started": "2022-02-24T10:55:50.695003Z"
    },
    "papermill": {
     "duration": 0.203605,
     "end_time": "2022-02-24T11:36:16.021056",
     "exception": false,
     "start_time": "2022-02-24T11:36:15.817451",
     "status": "completed"
    },
    "tags": []
   },
   "outputs": [
    {
     "data": {
      "image/png": "[encoded data removed]",
      "text/plain": [
       "<Figure size 432x288 with 1 Axes>"
      ]
     },
     "metadata": {
      "needs_background": "light"
     },
     "output_type": "display_data"
    }
   ],
   "source": [
    "Sex=['male','female']\n",
    "ax=sns.countplot(data=train,x='Sex',hue='Survived')\n",
    "plt.xticks(ticks = [0,1], labels = Sex)\n",
    "plt.title(\"Sex / Target\")\n",
    "plt.legend(['Deceased', 'Survived'])\n",
    "plt.show()"
   ]
  },
  {
   "cell_type": "markdown",
   "id": "bdaa54d1",
   "metadata": {
    "papermill": {
     "duration": 0.031091,
     "end_time": "2022-02-24T11:36:16.083256",
     "exception": false,
     "start_time": "2022-02-24T11:36:16.052165",
     "status": "completed"
    },
    "tags": []
   },
   "source": [
    "Data cleaning\n",
    "\n",
    "Have the following situation:\n",
    "\n",
    "Missing values:\n",
    "\n",
    "* Case 1: 'Cabin' 77% of missing values. As long as there is 3/4 of the data missing if would decide to use the data it would not be trustable, so the most fair way to proceed is to drop this one;\n",
    "\n",
    "* Case 2: 'Age' with 20% of missing values. With a 20% of missing values should try to fill following some strategy in order to apply the filling closer to what would be: in view of Pclass and Sex have no missing values as well as maybe impact directly on the survivors number, they will be use as reference to fill some missing values;\n",
    "\n",
    "* Case 3: 'Embarked' with 0.2% of missing values. Less than a 0.5% of missing values let to take a different strategy as long as filling the missing values would affect nearly nothing to results. So in this case will drop the cases where this property is not present;\n",
    "\n",
    "* Case 4: 'Fare' with 0.2% of missing values in test (less than a 0.5%). However, in this case will apply the same strategy of Case2, considering that it is not object and it hasn´t missing values in training.\n",
    "\n",
    "Categorical values\n",
    "\n",
    "Also have categorical variables that need to be encoded or dropped:\n",
    "\n",
    "* Case 5: 'Sex' as long as it only has 2 possibles values, can do it manually or by a label encoder;\n",
    "\n",
    "* Case 6: 'Name' This property doesn't give useful info so drop is the best option;\n",
    "\n",
    "* Case 7: 'Ticket' This property doesn't give useful info. Drop is the best option too;\n",
    "\n",
    "* Case 8: 'Cabin' drop by missing 70% of values, also not very useful info at first sight. Maybe with less missing could be useful as \"travellers on stern side of the boat survived more than travellers on bow side\", but 77.1% is too much missing;\n",
    "\n",
    "* Case 9: 'Embarked' has 3 possible values, can do it manually or by a label encoder."
   ]
  },
  {
   "cell_type": "code",
   "execution_count": 13,
   "id": "5fa69390",
   "metadata": {
    "execution": {
     "iopub.execute_input": "2022-02-24T11:36:16.150054Z",
     "iopub.status.busy": "2022-02-24T11:36:16.149123Z",
     "iopub.status.idle": "2022-02-24T11:36:16.157879Z",
     "shell.execute_reply": "2022-02-24T11:36:16.158569Z",
     "shell.execute_reply.started": "2022-02-24T10:56:03.461616Z"
    },
    "papermill": {
     "duration": 0.044344,
     "end_time": "2022-02-24T11:36:16.158787",
     "exception": false,
     "start_time": "2022-02-24T11:36:16.114443",
     "status": "completed"
    },
    "tags": []
   },
   "outputs": [
    {
     "name": "stdout",
     "output_type": "stream",
     "text": [
      "Training:\n",
      "male      577\n",
      "female    314\n",
      "Name: Sex, dtype: int64\n",
      "----------------------------------------\n",
      "Test:\n",
      "male      266\n",
      "female    152\n",
      "Name: Sex, dtype: int64\n"
     ]
    }
   ],
   "source": [
    "# Check the values of Sex for manual replacement\n",
    "print('Training:')\n",
    "print(train['Sex'].value_counts())\n",
    "print('----------------------------------------')\n",
    "print('Test:')\n",
    "print(test['Sex'].value_counts())"
   ]
  },
  {
   "cell_type": "code",
   "execution_count": 14,
   "id": "942a4cbb",
   "metadata": {
    "execution": {
     "iopub.execute_input": "2022-02-24T11:36:16.226839Z",
     "iopub.status.busy": "2022-02-24T11:36:16.225888Z",
     "iopub.status.idle": "2022-02-24T11:36:16.234080Z",
     "shell.execute_reply": "2022-02-24T11:36:16.234547Z",
     "shell.execute_reply.started": "2022-02-24T10:56:11.394448Z"
    },
    "papermill": {
     "duration": 0.04357,
     "end_time": "2022-02-24T11:36:16.234716",
     "exception": false,
     "start_time": "2022-02-24T11:36:16.191146",
     "status": "completed"
    },
    "tags": []
   },
   "outputs": [
    {
     "name": "stdout",
     "output_type": "stream",
     "text": [
      "Training:\n",
      "S    644\n",
      "C    168\n",
      "Q     77\n",
      "Name: Embarked, dtype: int64\n",
      "----------------------------------------\n",
      "Test:\n",
      "S    270\n",
      "C    102\n",
      "Q     46\n",
      "Name: Embarked, dtype: int64\n"
     ]
    }
   ],
   "source": [
    "# Check the values of Embarked for manual replacement\n",
    "print('Training:')\n",
    "print(train['Embarked'].value_counts())\n",
    "print('----------------------------------------')\n",
    "print('Test:')\n",
    "print(test['Embarked'].value_counts())"
   ]
  },
  {
   "cell_type": "code",
   "execution_count": 15,
   "id": "a3aae6d5",
   "metadata": {
    "execution": {
     "iopub.execute_input": "2022-02-24T11:36:16.303553Z",
     "iopub.status.busy": "2022-02-24T11:36:16.302970Z",
     "iopub.status.idle": "2022-02-24T11:36:16.324627Z",
     "shell.execute_reply": "2022-02-24T11:36:16.325119Z",
     "shell.execute_reply.started": "2022-02-24T10:56:18.528809Z"
    },
    "papermill": {
     "duration": 0.058611,
     "end_time": "2022-02-24T11:36:16.325283",
     "exception": false,
     "start_time": "2022-02-24T11:36:16.266672",
     "status": "completed"
    },
    "tags": []
   },
   "outputs": [
    {
     "data": {
      "text/plain": [
       "(-0.513, 102.466]     838\n",
       "(102.466, 204.932]     33\n",
       "(204.932, 307.398]     17\n",
       "(409.863, 512.329]      3\n",
       "(307.398, 409.863]      0\n",
       "Name: Fare, dtype: int64"
      ]
     },
     "execution_count": 15,
     "metadata": {},
     "output_type": "execute_result"
    }
   ],
   "source": [
    "# Check the values of Fare for, eventually, manual replacement into categories\n",
    "train['Fare'].value_counts(bins=5)"
   ]
  },
  {
   "cell_type": "code",
   "execution_count": 16,
   "id": "2587d933",
   "metadata": {
    "execution": {
     "iopub.execute_input": "2022-02-24T11:36:16.393195Z",
     "iopub.status.busy": "2022-02-24T11:36:16.392276Z",
     "iopub.status.idle": "2022-02-24T11:36:16.399198Z",
     "shell.execute_reply": "2022-02-24T11:36:16.399762Z",
     "shell.execute_reply.started": "2022-02-24T10:56:24.476881Z"
    },
    "papermill": {
     "duration": 0.042324,
     "end_time": "2022-02-24T11:36:16.399928",
     "exception": false,
     "start_time": "2022-02-24T11:36:16.357604",
     "status": "completed"
    },
    "tags": []
   },
   "outputs": [],
   "source": [
    "def cleanData(data):\n",
    "    \n",
    "    # Data missing and categorical to drop: Cases 1, 6, 7 and 8\n",
    "    data.drop(['Cabin','Name','Ticket'], axis=1, inplace=True)\n",
    "\n",
    "    # Data missing Case2\n",
    "    data['Age'] = data.groupby(['Pclass','Sex'])['Age'].transform(lambda x: x.fillna(x.median()))\n",
    "    \n",
    "    # FARE Data missing in test: Case4\n",
    "    data['Fare'] = data.groupby(['Pclass','Sex'])['Fare'].transform(lambda x: x.fillna(x.median()))\n",
    "\n",
    "    # Data missing Case3\n",
    "    data.dropna(axis=0, subset=['Embarked'], inplace=True)\n",
    "    \n",
    "    # Categorical Data\n",
    "    le = preprocessing.LabelEncoder()\n",
    "    \n",
    "    # Sex Case5\n",
    "    data['Sex'].replace({'male':0, 'female':1}, inplace=True)\n",
    "    \n",
    "    # Embarked Case9\n",
    "    data['Embarked'].replace({'S':0, 'C':1, 'Q':2}, inplace=True)\n",
    "    \n",
    "    return data"
   ]
  },
  {
   "cell_type": "code",
   "execution_count": 17,
   "id": "0808c2e3",
   "metadata": {
    "execution": {
     "iopub.execute_input": "2022-02-24T11:36:16.467751Z",
     "iopub.status.busy": "2022-02-24T11:36:16.466839Z",
     "iopub.status.idle": "2022-02-24T11:36:16.496575Z",
     "shell.execute_reply": "2022-02-24T11:36:16.497071Z",
     "shell.execute_reply.started": "2022-02-24T10:56:30.200525Z"
    },
    "papermill": {
     "duration": 0.065187,
     "end_time": "2022-02-24T11:36:16.497236",
     "exception": false,
     "start_time": "2022-02-24T11:36:16.432049",
     "status": "completed"
    },
    "tags": []
   },
   "outputs": [],
   "source": [
    "clean_train = cleanData(train)\n",
    "clean_test = cleanData(test)"
   ]
  },
  {
   "cell_type": "markdown",
   "id": "3f8fd554",
   "metadata": {
    "papermill": {
     "duration": 0.033053,
     "end_time": "2022-02-24T11:36:16.562631",
     "exception": false,
     "start_time": "2022-02-24T11:36:16.529578",
     "status": "completed"
    },
    "tags": []
   },
   "source": [
    "Check cleaning\n",
    "\n",
    "After cleaning data, have to check that all is going well:"
   ]
  },
  {
   "cell_type": "code",
   "execution_count": 18,
   "id": "24d4cc9c",
   "metadata": {
    "execution": {
     "iopub.execute_input": "2022-02-24T11:36:16.636677Z",
     "iopub.status.busy": "2022-02-24T11:36:16.635644Z",
     "iopub.status.idle": "2022-02-24T11:36:16.642847Z",
     "shell.execute_reply": "2022-02-24T11:36:16.643377Z",
     "shell.execute_reply.started": "2022-02-24T10:56:36.361173Z"
    },
    "papermill": {
     "duration": 0.048627,
     "end_time": "2022-02-24T11:36:16.643541",
     "exception": false,
     "start_time": "2022-02-24T11:36:16.594914",
     "status": "completed"
    },
    "tags": []
   },
   "outputs": [
    {
     "name": "stdout",
     "output_type": "stream",
     "text": [
      "Training after cleaning:\n"
     ]
    },
    {
     "data": {
      "text/html": [
       "<div>\n",
       "<style scoped>\n",
       "    .dataframe tbody tr th:only-of-type {\n",
       "        vertical-align: middle;\n",
       "    }\n",
       "\n",
       "    .dataframe tbody tr th {\n",
       "        vertical-align: top;\n",
       "    }\n",
       "\n",
       "    .dataframe thead th {\n",
       "        text-align: right;\n",
       "    }\n",
       "</style>\n",
       "<table border=\"1\" class=\"dataframe\">\n",
       "  <thead>\n",
       "    <tr style=\"text-align: right;\">\n",
       "      <th></th>\n",
       "      <th>PassengerId</th>\n",
       "      <th>Survived</th>\n",
       "      <th>Pclass</th>\n",
       "      <th>Sex</th>\n",
       "      <th>Age</th>\n",
       "      <th>SibSp</th>\n",
       "      <th>Parch</th>\n",
       "      <th>Fare</th>\n",
       "      <th>Embarked</th>\n",
       "    </tr>\n",
       "  </thead>\n",
       "  <tbody>\n",
       "    <tr>\n",
       "      <th>0</th>\n",
       "      <td>1</td>\n",
       "      <td>0</td>\n",
       "      <td>3</td>\n",
       "      <td>0</td>\n",
       "      <td>22.0</td>\n",
       "      <td>1</td>\n",
       "      <td>0</td>\n",
       "      <td>7.2500</td>\n",
       "      <td>0</td>\n",
       "    </tr>\n",
       "    <tr>\n",
       "      <th>1</th>\n",
       "      <td>2</td>\n",
       "      <td>1</td>\n",
       "      <td>1</td>\n",
       "      <td>1</td>\n",
       "      <td>38.0</td>\n",
       "      <td>1</td>\n",
       "      <td>0</td>\n",
       "      <td>71.2833</td>\n",
       "      <td>1</td>\n",
       "    </tr>\n",
       "    <tr>\n",
       "      <th>2</th>\n",
       "      <td>3</td>\n",
       "      <td>1</td>\n",
       "      <td>3</td>\n",
       "      <td>1</td>\n",
       "      <td>26.0</td>\n",
       "      <td>0</td>\n",
       "      <td>0</td>\n",
       "      <td>7.9250</td>\n",
       "      <td>0</td>\n",
       "    </tr>\n",
       "    <tr>\n",
       "      <th>3</th>\n",
       "      <td>4</td>\n",
       "      <td>1</td>\n",
       "      <td>1</td>\n",
       "      <td>1</td>\n",
       "      <td>35.0</td>\n",
       "      <td>1</td>\n",
       "      <td>0</td>\n",
       "      <td>53.1000</td>\n",
       "      <td>0</td>\n",
       "    </tr>\n",
       "    <tr>\n",
       "      <th>4</th>\n",
       "      <td>5</td>\n",
       "      <td>0</td>\n",
       "      <td>3</td>\n",
       "      <td>0</td>\n",
       "      <td>35.0</td>\n",
       "      <td>0</td>\n",
       "      <td>0</td>\n",
       "      <td>8.0500</td>\n",
       "      <td>0</td>\n",
       "    </tr>\n",
       "  </tbody>\n",
       "</table>\n",
       "</div>"
      ],
      "text/plain": [
       "   PassengerId  Survived  Pclass  Sex   Age  SibSp  Parch     Fare  Embarked\n",
       "0            1         0       3    0  22.0      1      0   7.2500         0\n",
       "1            2         1       1    1  38.0      1      0  71.2833         1\n",
       "2            3         1       3    1  26.0      0      0   7.9250         0\n",
       "3            4         1       1    1  35.0      1      0  53.1000         0\n",
       "4            5         0       3    0  35.0      0      0   8.0500         0"
      ]
     },
     "execution_count": 18,
     "metadata": {},
     "output_type": "execute_result"
    }
   ],
   "source": [
    "print(\"Training after cleaning:\")\n",
    "clean_train.head()"
   ]
  },
  {
   "cell_type": "code",
   "execution_count": 19,
   "id": "9a3aed5e",
   "metadata": {
    "execution": {
     "iopub.execute_input": "2022-02-24T11:36:16.712534Z",
     "iopub.status.busy": "2022-02-24T11:36:16.711626Z",
     "iopub.status.idle": "2022-02-24T11:36:16.723655Z",
     "shell.execute_reply": "2022-02-24T11:36:16.724111Z",
     "shell.execute_reply.started": "2022-02-24T10:56:42.502176Z"
    },
    "papermill": {
     "duration": 0.047929,
     "end_time": "2022-02-24T11:36:16.724303",
     "exception": false,
     "start_time": "2022-02-24T11:36:16.676374",
     "status": "completed"
    },
    "tags": []
   },
   "outputs": [
    {
     "name": "stdout",
     "output_type": "stream",
     "text": [
      "Training after cleaning:\n",
      "<class 'pandas.core.frame.DataFrame'>\n",
      "Int64Index: 889 entries, 0 to 890\n",
      "Data columns (total 9 columns):\n",
      " #   Column       Non-Null Count  Dtype  \n",
      "---  ------       --------------  -----  \n",
      " 0   PassengerId  889 non-null    int64  \n",
      " 1   Survived     889 non-null    int64  \n",
      " 2   Pclass       889 non-null    int64  \n",
      " 3   Sex          889 non-null    int64  \n",
      " 4   Age          889 non-null    float64\n",
      " 5   SibSp        889 non-null    int64  \n",
      " 6   Parch        889 non-null    int64  \n",
      " 7   Fare         889 non-null    float64\n",
      " 8   Embarked     889 non-null    int64  \n",
      "dtypes: float64(2), int64(7)\n",
      "memory usage: 69.5 KB\n"
     ]
    }
   ],
   "source": [
    "print(\"Training after cleaning:\")\n",
    "clean_train.info()"
   ]
  },
  {
   "cell_type": "code",
   "execution_count": 20,
   "id": "23e6ba31",
   "metadata": {
    "execution": {
     "iopub.execute_input": "2022-02-24T11:36:16.793865Z",
     "iopub.status.busy": "2022-02-24T11:36:16.793304Z",
     "iopub.status.idle": "2022-02-24T11:36:16.805965Z",
     "shell.execute_reply": "2022-02-24T11:36:16.805496Z",
     "shell.execute_reply.started": "2022-02-24T10:56:48.374994Z"
    },
    "papermill": {
     "duration": 0.048262,
     "end_time": "2022-02-24T11:36:16.806105",
     "exception": false,
     "start_time": "2022-02-24T11:36:16.757843",
     "status": "completed"
    },
    "tags": []
   },
   "outputs": [
    {
     "name": "stdout",
     "output_type": "stream",
     "text": [
      "Test after cleaning:\n"
     ]
    },
    {
     "data": {
      "text/html": [
       "<div>\n",
       "<style scoped>\n",
       "    .dataframe tbody tr th:only-of-type {\n",
       "        vertical-align: middle;\n",
       "    }\n",
       "\n",
       "    .dataframe tbody tr th {\n",
       "        vertical-align: top;\n",
       "    }\n",
       "\n",
       "    .dataframe thead th {\n",
       "        text-align: right;\n",
       "    }\n",
       "</style>\n",
       "<table border=\"1\" class=\"dataframe\">\n",
       "  <thead>\n",
       "    <tr style=\"text-align: right;\">\n",
       "      <th></th>\n",
       "      <th>PassengerId</th>\n",
       "      <th>Pclass</th>\n",
       "      <th>Sex</th>\n",
       "      <th>Age</th>\n",
       "      <th>SibSp</th>\n",
       "      <th>Parch</th>\n",
       "      <th>Fare</th>\n",
       "      <th>Embarked</th>\n",
       "    </tr>\n",
       "  </thead>\n",
       "  <tbody>\n",
       "    <tr>\n",
       "      <th>0</th>\n",
       "      <td>892</td>\n",
       "      <td>3</td>\n",
       "      <td>0</td>\n",
       "      <td>34.5</td>\n",
       "      <td>0</td>\n",
       "      <td>0</td>\n",
       "      <td>7.8292</td>\n",
       "      <td>2</td>\n",
       "    </tr>\n",
       "    <tr>\n",
       "      <th>1</th>\n",
       "      <td>893</td>\n",
       "      <td>3</td>\n",
       "      <td>1</td>\n",
       "      <td>47.0</td>\n",
       "      <td>1</td>\n",
       "      <td>0</td>\n",
       "      <td>7.0000</td>\n",
       "      <td>0</td>\n",
       "    </tr>\n",
       "    <tr>\n",
       "      <th>2</th>\n",
       "      <td>894</td>\n",
       "      <td>2</td>\n",
       "      <td>0</td>\n",
       "      <td>62.0</td>\n",
       "      <td>0</td>\n",
       "      <td>0</td>\n",
       "      <td>9.6875</td>\n",
       "      <td>2</td>\n",
       "    </tr>\n",
       "    <tr>\n",
       "      <th>3</th>\n",
       "      <td>895</td>\n",
       "      <td>3</td>\n",
       "      <td>0</td>\n",
       "      <td>27.0</td>\n",
       "      <td>0</td>\n",
       "      <td>0</td>\n",
       "      <td>8.6625</td>\n",
       "      <td>0</td>\n",
       "    </tr>\n",
       "    <tr>\n",
       "      <th>4</th>\n",
       "      <td>896</td>\n",
       "      <td>3</td>\n",
       "      <td>1</td>\n",
       "      <td>22.0</td>\n",
       "      <td>1</td>\n",
       "      <td>1</td>\n",
       "      <td>12.2875</td>\n",
       "      <td>0</td>\n",
       "    </tr>\n",
       "  </tbody>\n",
       "</table>\n",
       "</div>"
      ],
      "text/plain": [
       "   PassengerId  Pclass  Sex   Age  SibSp  Parch     Fare  Embarked\n",
       "0          892       3    0  34.5      0      0   7.8292         2\n",
       "1          893       3    1  47.0      1      0   7.0000         0\n",
       "2          894       2    0  62.0      0      0   9.6875         2\n",
       "3          895       3    0  27.0      0      0   8.6625         0\n",
       "4          896       3    1  22.0      1      1  12.2875         0"
      ]
     },
     "execution_count": 20,
     "metadata": {},
     "output_type": "execute_result"
    }
   ],
   "source": [
    "print(\"Test after cleaning:\")\n",
    "clean_test.head()"
   ]
  },
  {
   "cell_type": "code",
   "execution_count": 21,
   "id": "b1e96c01",
   "metadata": {
    "execution": {
     "iopub.execute_input": "2022-02-24T11:36:16.876444Z",
     "iopub.status.busy": "2022-02-24T11:36:16.875864Z",
     "iopub.status.idle": "2022-02-24T11:36:16.887397Z",
     "shell.execute_reply": "2022-02-24T11:36:16.886802Z",
     "shell.execute_reply.started": "2022-02-24T10:56:53.708590Z"
    },
    "papermill": {
     "duration": 0.047824,
     "end_time": "2022-02-24T11:36:16.887537",
     "exception": false,
     "start_time": "2022-02-24T11:36:16.839713",
     "status": "completed"
    },
    "tags": []
   },
   "outputs": [
    {
     "name": "stdout",
     "output_type": "stream",
     "text": [
      "Test after cleaning:\n",
      "<class 'pandas.core.frame.DataFrame'>\n",
      "Int64Index: 418 entries, 0 to 417\n",
      "Data columns (total 8 columns):\n",
      " #   Column       Non-Null Count  Dtype  \n",
      "---  ------       --------------  -----  \n",
      " 0   PassengerId  418 non-null    int64  \n",
      " 1   Pclass       418 non-null    int64  \n",
      " 2   Sex          418 non-null    int64  \n",
      " 3   Age          418 non-null    float64\n",
      " 4   SibSp        418 non-null    int64  \n",
      " 5   Parch        418 non-null    int64  \n",
      " 6   Fare         418 non-null    float64\n",
      " 7   Embarked     418 non-null    int64  \n",
      "dtypes: float64(2), int64(6)\n",
      "memory usage: 29.4 KB\n"
     ]
    }
   ],
   "source": [
    "print(\"Test after cleaning:\")\n",
    "clean_test.info()"
   ]
  },
  {
   "cell_type": "markdown",
   "id": "354268ae",
   "metadata": {
    "papermill": {
     "duration": 0.033695,
     "end_time": "2022-02-24T11:36:16.955488",
     "exception": false,
     "start_time": "2022-02-24T11:36:16.921793",
     "status": "completed"
    },
    "tags": []
   },
   "source": [
    "Modeling\n",
    "\n",
    "With the data cleaned proceed to train and test models."
   ]
  },
  {
   "cell_type": "code",
   "execution_count": 22,
   "id": "626a7f97",
   "metadata": {
    "execution": {
     "iopub.execute_input": "2022-02-24T11:36:17.026649Z",
     "iopub.status.busy": "2022-02-24T11:36:17.026066Z",
     "iopub.status.idle": "2022-02-24T11:36:17.037416Z",
     "shell.execute_reply": "2022-02-24T11:36:17.036924Z",
     "shell.execute_reply.started": "2022-02-24T10:56:59.814577Z"
    },
    "papermill": {
     "duration": 0.048001,
     "end_time": "2022-02-24T11:36:17.037560",
     "exception": false,
     "start_time": "2022-02-24T11:36:16.989559",
     "status": "completed"
    },
    "tags": []
   },
   "outputs": [],
   "source": [
    "# Set X and y\n",
    "y = train['Survived']\n",
    "X = pd.get_dummies(train.drop('Survived', axis=1))\n",
    "\n",
    "# # Polynomial features\n",
    "# features = PolynomialFeatures(degree=2)\n",
    "# X = features.fit_transform(X)\n",
    "\n",
    "# # Standard Scaler\n",
    "# sc = StandardScaler()\n",
    "# X = sc.fit_transform(X)\n",
    "\n",
    "# Split model train test data\n",
    "X_train, X_val, y_train, y_val = train_test_split(X,y, test_size=0.2, random_state=42)"
   ]
  },
  {
   "cell_type": "code",
   "execution_count": 23,
   "id": "57dd8ff5",
   "metadata": {
    "execution": {
     "iopub.execute_input": "2022-02-24T11:36:17.111994Z",
     "iopub.status.busy": "2022-02-24T11:36:17.111374Z",
     "iopub.status.idle": "2022-02-24T11:36:17.113060Z",
     "shell.execute_reply": "2022-02-24T11:36:17.113494Z",
     "shell.execute_reply.started": "2022-02-24T10:57:06.300598Z"
    },
    "papermill": {
     "duration": 0.041967,
     "end_time": "2022-02-24T11:36:17.113655",
     "exception": false,
     "start_time": "2022-02-24T11:36:17.071688",
     "status": "completed"
    },
    "tags": []
   },
   "outputs": [],
   "source": [
    "def fitAndPredict(model):\n",
    "    \"\"\"The following code makes faster to evaluate a model \n",
    "    automating the fit and accuracy process\"\"\"\n",
    "    \n",
    "    model.fit(X_train, y_train)\n",
    "    prediction = model.predict(X_val)\n",
    "    return accuracy_score(y_val, prediction)"
   ]
  },
  {
   "cell_type": "code",
   "execution_count": 24,
   "id": "998d7896",
   "metadata": {
    "execution": {
     "iopub.execute_input": "2022-02-24T11:36:17.187936Z",
     "iopub.status.busy": "2022-02-24T11:36:17.184385Z",
     "iopub.status.idle": "2022-02-24T11:36:17.414732Z",
     "shell.execute_reply": "2022-02-24T11:36:17.415207Z",
     "shell.execute_reply.started": "2022-02-24T11:05:26.403269Z"
    },
    "papermill": {
     "duration": 0.26797,
     "end_time": "2022-02-24T11:36:17.415388",
     "exception": false,
     "start_time": "2022-02-24T11:36:17.147418",
     "status": "completed"
    },
    "tags": []
   },
   "outputs": [
    {
     "name": "stdout",
     "output_type": "stream",
     "text": [
      "Model  1 : LogisticRegression(random_state=42, solver='liblinear')\n",
      "ACC:  0.797752808988764\n",
      "Model  2 : GradientBoostingClassifier(max_depth=4, max_features=5, min_samples_leaf=60,\n",
      "                           min_samples_split=20)\n",
      "ACC:  0.8314606741573034\n",
      "Model  3 : RandomForestClassifier(max_depth=12, n_estimators=28, random_state=1)\n",
      "ACC:  0.7921348314606742\n",
      "Model  4 : SGDClassifier()\n",
      "ACC:  0.6573033707865169\n",
      "Model  5 : SVC()\n",
      "ACC:  0.6348314606741573\n",
      "Model  6 : KNeighborsClassifier(n_neighbors=3)\n",
      "ACC:  0.5955056179775281\n",
      "Model  7 : DecisionTreeClassifier()\n",
      "ACC:  0.7303370786516854\n"
     ]
    }
   ],
   "source": [
    "#Lets some models\n",
    "model1 = LogisticRegression(solver='liblinear', random_state=42)\n",
    "model2 = GradientBoostingClassifier(min_samples_split=20, min_samples_leaf=60, max_depth=4, max_features=5)\n",
    "model3 = RandomForestClassifier(n_estimators=28, max_depth=12, random_state=1)\n",
    "model4 = SGDClassifier()\n",
    "model5 = SVC()\n",
    "model6 = KNeighborsClassifier(n_neighbors = 3)\n",
    "model7 = DecisionTreeClassifier()\n",
    "\n",
    "models = [model1, model2, model3, model4, model5, model6, model7]\n",
    "i = 0\n",
    "for model in models:\n",
    "    i +=1\n",
    "    print(\"Model \", i,\":\", model)\n",
    "    print(\"ACC: \", fitAndPredict(model))"
   ]
  },
  {
   "cell_type": "code",
   "execution_count": 25,
   "id": "e75ad31e",
   "metadata": {
    "execution": {
     "iopub.execute_input": "2022-02-24T11:36:17.493375Z",
     "iopub.status.busy": "2022-02-24T11:36:17.492742Z",
     "iopub.status.idle": "2022-02-24T11:36:17.999069Z",
     "shell.execute_reply": "2022-02-24T11:36:17.998189Z",
     "shell.execute_reply.started": "2022-02-24T11:25:42.055384Z"
    },
    "papermill": {
     "duration": 0.549177,
     "end_time": "2022-02-24T11:36:17.999224",
     "exception": false,
     "start_time": "2022-02-24T11:36:17.450047",
     "status": "completed"
    },
    "tags": []
   },
   "outputs": [
    {
     "name": "stdout",
     "output_type": "stream",
     "text": [
      "Enhancing the model:\n",
      "max_features: 4  \t\t Accuracy:  0.837079\n",
      "max_features: 5  \t\t Accuracy:  0.831461\n",
      "max_features: 6  \t\t Accuracy:  0.837079\n",
      "max_features: 7  \t\t Accuracy:  0.837079\n",
      "max_features: 8  \t\t Accuracy:  0.837079\n"
     ]
    }
   ],
   "source": [
    "def enhance_model(max_features):\n",
    "    \"\"\"This function makes faster to evaluate a model wiht its parameters \n",
    "    automating the fit and accuracy process\"\"\"\n",
    "\n",
    "    model_chosen = GradientBoostingClassifier(min_samples_split=30, min_samples_leaf=60, max_depth=3, max_features=max_features)\n",
    "    model_chosen.fit(X_train, y_train)\n",
    "    prediction = model_chosen.predict(X_val)\n",
    "    return accuracy_score(y_val, prediction)\n",
    "\n",
    "print(\"Enhancing the model:\")\n",
    "\n",
    "for max_features in [4,5,6,7,8]:\n",
    "    Model_accuracy = enhance_model(max_features)\n",
    "    print(\"max_features: %d  \\t\\t Accuracy:  %f\" %(max_features, Model_accuracy))"
   ]
  },
  {
   "cell_type": "code",
   "execution_count": 26,
   "id": "541fdf9a",
   "metadata": {
    "execution": {
     "iopub.execute_input": "2022-02-24T11:36:18.075544Z",
     "iopub.status.busy": "2022-02-24T11:36:18.074914Z",
     "iopub.status.idle": "2022-02-24T11:36:18.169888Z",
     "shell.execute_reply": "2022-02-24T11:36:18.170454Z",
     "shell.execute_reply.started": "2022-02-24T11:26:44.254987Z"
    },
    "papermill": {
     "duration": 0.134386,
     "end_time": "2022-02-24T11:36:18.170621",
     "exception": false,
     "start_time": "2022-02-24T11:36:18.036235",
     "status": "completed"
    },
    "tags": []
   },
   "outputs": [
    {
     "name": "stdout",
     "output_type": "stream",
     "text": [
      "Accuracy after enhancing:\n"
     ]
    },
    {
     "data": {
      "text/plain": [
       "0.8258426966292135"
      ]
     },
     "execution_count": 26,
     "metadata": {},
     "output_type": "execute_result"
    }
   ],
   "source": [
    "#As long as GradientBoost is the best of the tried ones lets tune it a bit\n",
    "model_enhanced = GradientBoostingClassifier(min_samples_split=60, min_samples_leaf=60, max_depth=3, max_features=4)\n",
    "print(\"Accuracy after enhancing:\")\n",
    "fitAndPredict(model_enhanced)"
   ]
  },
  {
   "cell_type": "code",
   "execution_count": 27,
   "id": "53979ebd",
   "metadata": {
    "execution": {
     "iopub.execute_input": "2022-02-24T11:36:18.247359Z",
     "iopub.status.busy": "2022-02-24T11:36:18.246729Z",
     "iopub.status.idle": "2022-02-24T11:36:18.250104Z",
     "shell.execute_reply": "2022-02-24T11:36:18.250547Z",
     "shell.execute_reply.started": "2022-02-24T11:28:15.071462Z"
    },
    "papermill": {
     "duration": 0.04303,
     "end_time": "2022-02-24T11:36:18.250703",
     "exception": false,
     "start_time": "2022-02-24T11:36:18.207673",
     "status": "completed"
    },
    "tags": []
   },
   "outputs": [],
   "source": [
    "# Polynomial features\n",
    "# id = clean_test['PassengerId']\n",
    "# features = PolynomialFeatures(degree=2)\n",
    "# clean_test = features.fit_transform(clean_test)\n",
    "\n",
    "# # Standard Scaler\n",
    "# sc = StandardScaler()\n",
    "# clean_test = sc.fit_transform(clean_test)"
   ]
  },
  {
   "cell_type": "code",
   "execution_count": 28,
   "id": "d3a66ea1",
   "metadata": {
    "execution": {
     "iopub.execute_input": "2022-02-24T11:36:18.326505Z",
     "iopub.status.busy": "2022-02-24T11:36:18.325879Z",
     "iopub.status.idle": "2022-02-24T11:36:18.335278Z",
     "shell.execute_reply": "2022-02-24T11:36:18.335755Z",
     "shell.execute_reply.started": "2022-02-24T11:30:08.209415Z"
    },
    "papermill": {
     "duration": 0.048752,
     "end_time": "2022-02-24T11:36:18.335925",
     "exception": false,
     "start_time": "2022-02-24T11:36:18.287173",
     "status": "completed"
    },
    "tags": []
   },
   "outputs": [
    {
     "name": "stdout",
     "output_type": "stream",
     "text": [
      "     PassengerId  Survived\n",
      "0            892         0\n",
      "1            893         0\n",
      "2            894         0\n",
      "3            895         0\n",
      "4            896         0\n",
      "..           ...       ...\n",
      "413         1305         0\n",
      "414         1306         1\n",
      "415         1307         0\n",
      "416         1308         0\n",
      "417         1309         0\n",
      "\n",
      "[418 rows x 2 columns]\n"
     ]
    }
   ],
   "source": [
    "#Deliver\n",
    "predict = model_enhanced.predict(clean_test)\n",
    "#output = pd.DataFrame({'PassengerId': id, 'Survived': predict})\n",
    "output = pd.DataFrame({'PassengerId': clean_test.PassengerId, 'Survived': predict})\n",
    "print(output)"
   ]
  },
  {
   "cell_type": "code",
   "execution_count": 29,
   "id": "90551520",
   "metadata": {
    "execution": {
     "iopub.execute_input": "2022-02-24T11:36:18.412945Z",
     "iopub.status.busy": "2022-02-24T11:36:18.412259Z",
     "iopub.status.idle": "2022-02-24T11:36:18.419448Z",
     "shell.execute_reply": "2022-02-24T11:36:18.419904Z",
     "shell.execute_reply.started": "2022-02-24T11:31:59.178869Z"
    },
    "papermill": {
     "duration": 0.046476,
     "end_time": "2022-02-24T11:36:18.420061",
     "exception": false,
     "start_time": "2022-02-24T11:36:18.373585",
     "status": "completed"
    },
    "tags": []
   },
   "outputs": [
    {
     "name": "stdout",
     "output_type": "stream",
     "text": [
      "Submission saved!\n"
     ]
    }
   ],
   "source": [
    "output.to_csv('my_submission.csv', index=False)\n",
    "print(\"Submission saved!\")"
   ]
  }
 ],
 "metadata": {
  "kernelspec": {
   "display_name": "Python 3",
   "language": "python",
   "name": "python3"
  },
  "language_info": {
   "codemirror_mode": {
    "name": "ipython",
    "version": 3
   },
   "file_extension": ".py",
   "mimetype": "text/x-python",
   "name": "python",
   "nbconvert_exporter": "python",
   "pygments_lexer": "ipython3",
   "version": "3.7.12"
  },
  "papermill": {
   "default_parameters": {},
   "duration": 15.011802,
   "end_time": "2022-02-24T11:36:19.166823",
   "environment_variables": {},
   "exception": null,
   "input_path": "__notebook__.ipynb",
   "output_path": "__notebook__.ipynb",
   "parameters": {},
   "start_time": "2022-02-24T11:36:04.155021",
   "version": "2.3.3"
  }
 },
 "nbformat": 4,
 "nbformat_minor": 5
}
